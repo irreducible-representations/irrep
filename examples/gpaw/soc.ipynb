{
 "cells": [
  {
   "cell_type": "code",
   "execution_count": 46,
   "metadata": {},
   "outputs": [
    {
     "name": "stdout",
     "output_type": "stream",
     "text": [
      "<gpaw.spinorbit.BZWaveFunctions object at 0x79a7140cac10>\n"
     ]
    },
    {
     "ename": "AttributeError",
     "evalue": "'BZWaveFunctions' object has no attribute 'get_wave_functions'",
     "output_type": "error",
     "traceback": [
      "\u001b[0;31m---------------------------------------------------------------------------\u001b[0m",
      "\u001b[0;31mAttributeError\u001b[0m                            Traceback (most recent call last)",
      "Cell \u001b[0;32mIn[46], line 8\u001b[0m\n\u001b[1;32m      6\u001b[0m \u001b[38;5;28mprint\u001b[39m(soc)\n\u001b[1;32m      7\u001b[0m calc\u001b[38;5;241m.\u001b[39mget_eigenvalues()\u001b[38;5;241m.\u001b[39mshape\n\u001b[0;32m----> 8\u001b[0m \u001b[43msoc\u001b[49m\u001b[38;5;241;43m.\u001b[39;49m\u001b[43mget_wave_functions\u001b[49m()\n",
      "\u001b[0;31mAttributeError\u001b[0m: 'BZWaveFunctions' object has no attribute 'get_wave_functions'"
     ]
    }
   ],
   "source": [
    "from gpaw import GPAW\n",
    "from gpaw import spinorbit\n",
    "from gpaw.spinorbit import soc_eigenstates\n",
    "calc = GPAW(\"Te_pw.gpw\")\n",
    "soc = soc_eigenstates(calc)\n",
    "print(soc)\n",
    "calc.get_eigenvalues().shape\n",
    "soc.get_wave_functions()\n"
   ]
  },
  {
   "cell_type": "code",
   "execution_count": 23,
   "metadata": {},
   "outputs": [
    {
     "data": {
      "text/plain": [
       "array([[[ 1.82397118e-05+0.00000000e+00j,\n",
       "          8.82114519e-01+4.70945366e-01j,\n",
       "          4.93638533e-07+1.03488584e-06j, ...,\n",
       "          1.84457583e-08-7.33579791e-08j,\n",
       "          1.51084073e-04+3.58349961e-05j,\n",
       "         -1.52152277e-05+1.73483472e-05j],\n",
       "        [-9.99949809e-01+0.00000000e+00j,\n",
       "          1.60872071e-05+8.59968755e-06j,\n",
       "         -6.91137856e-07+1.70686055e-06j, ...,\n",
       "          1.26247701e-05+4.80059634e-04j,\n",
       "         -2.06038768e-06+2.45913689e-05j,\n",
       "          4.41506695e-04+2.31904295e-04j],\n",
       "        [ 2.27130556e-06+0.00000000e+00j,\n",
       "          4.45522697e-07-1.12618488e-06j,\n",
       "         -8.45397597e-01+5.34005033e-01j, ...,\n",
       "         -7.16096119e-08-1.13935069e-07j,\n",
       "         -3.53659343e-05+3.81188903e-04j,\n",
       "          6.22184248e-05+1.08646394e-04j],\n",
       "        ...,\n",
       "        [ 2.11649713e-07+0.00000000e+00j,\n",
       "          7.47888571e-07+1.40212249e-06j,\n",
       "         -4.62499149e-04-1.10837626e-04j, ...,\n",
       "          4.36955153e-04+3.36639949e-05j,\n",
       "         -7.12301484e-03-6.71826245e-03j,\n",
       "          4.74164297e-04+2.62418550e-04j],\n",
       "        [-4.38718478e-04+0.00000000e+00j,\n",
       "          2.78843052e-05+5.78482721e-06j,\n",
       "         -5.84065357e-05+1.67209879e-04j, ...,\n",
       "         -5.90784762e-03+2.46128060e-03j,\n",
       "         -1.68878519e-01-1.37858534e-01j,\n",
       "         -8.62385158e-01-4.55853134e-01j],\n",
       "        [ 9.12885756e-05+0.00000000e+00j,\n",
       "          1.01075924e-04+1.02046967e-04j,\n",
       "          8.83167794e-06+2.82269516e-04j, ...,\n",
       "          2.31616699e-03-8.51387728e-04j,\n",
       "         -8.66919025e-01-4.47301377e-01j,\n",
       "          2.09609015e-01+5.98284272e-02j]],\n",
       "\n",
       "       [[ 9.99512895e-01+0.00000000e+00j,\n",
       "          2.98122951e-02+2.31069451e-04j,\n",
       "         -6.39417008e-05+5.27754373e-05j, ...,\n",
       "         -2.01789280e-04+5.20490621e-04j,\n",
       "          3.22366166e-06-2.56862279e-06j,\n",
       "         -3.19478383e-04-2.35333209e-04j],\n",
       "        [-2.98131888e-02+0.00000000e+00j,\n",
       "          9.99482947e-01+7.74681104e-03j,\n",
       "         -2.13785111e-03+1.76840987e-03j, ...,\n",
       "          6.09492234e-06-1.55155462e-05j,\n",
       "          1.13468037e-04-8.52912592e-05j,\n",
       "          9.38098625e-06+7.14010463e-06j],\n",
       "        [-3.24822335e-05+0.00000000e+00j,\n",
       "         -3.18327360e-05-2.63252503e-06j,\n",
       "         -3.98168928e-01+3.11970738e-01j, ...,\n",
       "         -4.40394801e-04+4.23988212e-05j,\n",
       "         -2.09687821e-04+2.74880669e-04j,\n",
       "         -7.04616297e-05-1.01343885e-04j],\n",
       "        ...,\n",
       "        [-9.38301914e-07+0.00000000e+00j,\n",
       "         -8.54220760e-07+5.27750908e-07j,\n",
       "         -5.77941857e-04-4.49734073e-04j, ...,\n",
       "          4.33796517e-01-2.46846398e-01j,\n",
       "          2.51665779e-03-6.31735154e-03j,\n",
       "         -1.92156563e-03-1.50012282e-03j],\n",
       "        [ 1.54004933e-04+0.00000000e+00j,\n",
       "          9.36762847e-05-6.02350039e-05j,\n",
       "          1.31332708e-04-1.98747093e-04j, ...,\n",
       "          3.58769740e-03-2.71455056e-03j,\n",
       "         -3.14940182e-01+8.39312396e-01j,\n",
       "          3.53286530e-01+2.66492256e-01j],\n",
       "        [-3.11132885e-04+0.00000000e+00j,\n",
       "          4.63385184e-05-2.93954757e-05j,\n",
       "          1.06113697e-04-9.96412174e-05j, ...,\n",
       "         -4.40012284e-06+1.53296170e-03j,\n",
       "         -1.55045629e-01+4.14544003e-01j,\n",
       "         -7.16315975e-01-5.39131240e-01j]],\n",
       "\n",
       "       [[ 9.99957781e-01+0.00000000e+00j,\n",
       "          1.60901939e-05-8.59027043e-06j,\n",
       "          1.80563751e-07+1.84555045e-07j, ...,\n",
       "          5.78740404e-08-1.69565554e-07j,\n",
       "         -5.25167126e-06+2.24697185e-05j,\n",
       "          1.50156119e-04-3.95434429e-05j],\n",
       "        [-1.82415147e-05+0.00000000e+00j,\n",
       "          8.81856575e-01-4.71411288e-01j,\n",
       "         -6.43814203e-03+3.27803992e-03j, ...,\n",
       "          5.31590250e-08-2.10552516e-08j,\n",
       "         -4.98692914e-04+3.62509401e-06j,\n",
       "         -9.77617312e-06-2.26584876e-05j],\n",
       "        [-1.21110811e-06+0.00000000e+00j,\n",
       "         -8.35530839e-07-2.11204099e-06j,\n",
       "         -1.77221002e-04-3.60278197e-05j, ...,\n",
       "         -5.65931280e-04-1.64659602e-04j,\n",
       "          7.81401796e-05-9.78227149e-05j,\n",
       "          3.67469676e-04-1.07339490e-04j],\n",
       "        ...,\n",
       "        [-1.58911446e-06+0.00000000e+00j,\n",
       "         -9.96091881e-08+1.86744774e-07j,\n",
       "         -9.73021879e-08+2.32841380e-07j, ...,\n",
       "          6.07893928e-01-7.92900228e-01j,\n",
       "         -4.54696640e-04+2.94866480e-04j,\n",
       "          9.28004154e-03-3.12301453e-03j],\n",
       "        [ 2.84780390e-05+0.00000000e+00j,\n",
       "         -4.29571712e-04+8.91181655e-05j,\n",
       "         -1.25341467e-04-3.14695512e-04j, ...,\n",
       "          1.39286535e-03-2.00060189e-04j,\n",
       "         -9.37004216e-01-2.71170315e-01j,\n",
       "         -1.93361206e-01-1.00679558e-01j],\n",
       "        [-1.43631214e-04+0.00000000e+00j,\n",
       "         -6.42414473e-05+6.48586191e-05j,\n",
       "         -7.84903990e-05+9.15501940e-06j, ...,\n",
       "         -5.39256327e-03+7.06210257e-03j,\n",
       "         -1.90012557e-01+1.06820448e-01j,\n",
       "          9.27865091e-01-3.01153598e-01j]],\n",
       "\n",
       "       ...,\n",
       "\n",
       "       [[-2.98131903e-02+0.00000000e+00j,\n",
       "          9.99482874e-01+7.74680232e-03j,\n",
       "          2.10973461e-03+1.80283649e-03j, ...,\n",
       "         -6.09379378e-06-1.55772960e-05j,\n",
       "          3.21292755e-04-2.32849998e-04j,\n",
       "          3.20365649e-06+2.59353085e-06j],\n",
       "        [ 9.99512969e-01+0.00000000e+00j,\n",
       "          2.98122930e-02+2.31069674e-04j,\n",
       "          6.31026103e-05+5.37010418e-05j, ...,\n",
       "          2.01797417e-04+5.21016024e-04j,\n",
       "          9.43604438e-06-7.06718196e-06j,\n",
       "         -1.12803572e-04-8.61681411e-05j],\n",
       "        [ 3.19414037e-05+0.00000000e+00j,\n",
       "         -3.23717258e-05-2.67709878e-06j,\n",
       "          3.70656534e-01+3.43871648e-01j, ...,\n",
       "         -4.35248980e-04-7.88227560e-05j,\n",
       "          7.85744045e-05-9.51918449e-05j,\n",
       "         -1.86319514e-04-2.91227408e-04j],\n",
       "        ...,\n",
       "        [ 1.00409866e-06+0.00000000e+00j,\n",
       "         -7.98245235e-07+4.93168356e-07j,\n",
       "         -2.53137627e-04+6.85418817e-04j, ...,\n",
       "         -4.99245276e-01+1.80783237e-02j,\n",
       "          8.46281446e-04-2.28617380e-03j,\n",
       "          5.46138496e-03+4.05163809e-03j],\n",
       "        [-1.11371011e-04+0.00000000e+00j,\n",
       "          1.29536491e-04-8.32935578e-05j,\n",
       "         -9.16282949e-05+1.75126706e-04j, ...,\n",
       "         -2.90714961e-03+1.36387413e-03j,\n",
       "         -1.53023730e-01+4.15226725e-01j,\n",
       "         -7.18844258e-01-5.35626313e-01j],\n",
       "        [ 5.48757895e-05+0.00000000e+00j,\n",
       "          2.62728556e-04-1.66665468e-04j,\n",
       "          1.46297340e-05+2.42362027e-04j, ...,\n",
       "         -2.70293784e-05-5.33367870e-04j,\n",
       "         -3.16077488e-01+8.38967276e-01j,\n",
       "          3.52984496e-01+2.66997797e-01j]],\n",
       "\n",
       "       [[-9.99957781e-01+0.00000000e+00j,\n",
       "          1.60901939e-05+8.59027043e-06j,\n",
       "         -1.80563751e-07+1.84555045e-07j, ...,\n",
       "          5.78740404e-08+1.69565554e-07j,\n",
       "          5.25167126e-06+2.24697185e-05j,\n",
       "          1.50156119e-04+3.95434429e-05j],\n",
       "        [ 1.82415147e-05+0.00000000e+00j,\n",
       "          8.81856575e-01+4.71411288e-01j,\n",
       "          6.43814203e-03+3.27803992e-03j, ...,\n",
       "          5.31590251e-08+2.10552517e-08j,\n",
       "          4.98692914e-04+3.62509401e-06j,\n",
       "         -9.77617312e-06+2.26584876e-05j],\n",
       "        [ 1.21110811e-06+0.00000000e+00j,\n",
       "         -8.35530840e-07+2.11204099e-06j,\n",
       "          1.77221002e-04-3.60278196e-05j, ...,\n",
       "         -5.65931280e-04+1.64659602e-04j,\n",
       "         -7.81401796e-05-9.78227149e-05j,\n",
       "          3.67469676e-04+1.07339490e-04j],\n",
       "        ...,\n",
       "        [ 1.58911446e-06+0.00000000e+00j,\n",
       "         -9.96091880e-08-1.86744774e-07j,\n",
       "          9.73021878e-08+2.32841380e-07j, ...,\n",
       "          6.07893928e-01+7.92900228e-01j,\n",
       "          4.54696640e-04+2.94866480e-04j,\n",
       "          9.28004154e-03+3.12301453e-03j],\n",
       "        [-2.84780390e-05+0.00000000e+00j,\n",
       "         -4.29571712e-04-8.91181655e-05j,\n",
       "          1.25341467e-04-3.14695512e-04j, ...,\n",
       "          1.39286535e-03+2.00060189e-04j,\n",
       "          9.37004216e-01-2.71170315e-01j,\n",
       "         -1.93361206e-01+1.00679558e-01j],\n",
       "        [ 1.43631214e-04+0.00000000e+00j,\n",
       "         -6.42414473e-05-6.48586191e-05j,\n",
       "          7.84903990e-05+9.15501940e-06j, ...,\n",
       "         -5.39256327e-03-7.06210257e-03j,\n",
       "          1.90012557e-01+1.06820448e-01j,\n",
       "          9.27865091e-01+3.01153598e-01j]],\n",
       "\n",
       "       [[ 4.86337627e-01+0.00000000e+00j,\n",
       "         -5.17449920e-01+4.51876367e-02j,\n",
       "         -4.76765586e-01+5.61481451e-02j, ...,\n",
       "         -4.37578098e-04-4.86699919e-04j,\n",
       "          6.03018474e-05-3.28250408e-04j,\n",
       "         -8.20205439e-05+3.00743871e-04j],\n",
       "        [ 5.17711416e-01+0.00000000e+00j,\n",
       "          4.82651932e-01-4.24505481e-02j,\n",
       "         -5.11112020e-01+6.05012134e-02j, ...,\n",
       "          4.07639727e-04+4.52419644e-04j,\n",
       "         -5.87089602e-05+3.01840499e-04j,\n",
       "         -8.98736169e-05+3.16984354e-04j],\n",
       "        [-4.96786105e-01+0.00000000e+00j,\n",
       "          4.96781746e-01-8.75627464e-07j,\n",
       "         -4.99691196e-01+5.90174007e-02j, ...,\n",
       "          4.10047773e-04+5.58165806e-04j,\n",
       "         -1.78545789e-06-2.76444969e-06j,\n",
       "          2.52522413e-06+2.95153457e-06j],\n",
       "        ...,\n",
       "        [ 3.79638270e-04+0.00000000e+00j,\n",
       "         -2.73942039e-04-4.97390422e-04j,\n",
       "         -3.75135539e-04+4.39765240e-05j, ...,\n",
       "         -3.62860158e-01+5.92585390e-01j,\n",
       "         -1.39032254e-02-1.66678530e-02j,\n",
       "          1.42984840e-02-2.69757590e-03j],\n",
       "        [ 2.07796748e-04+0.00000000e+00j,\n",
       "          1.77344418e-04+8.83850873e-05j,\n",
       "         -2.01963272e-04+2.52369970e-05j, ...,\n",
       "          1.41891005e-02+6.13185255e-03j,\n",
       "          4.67168789e-01-5.06637094e-01j,\n",
       "          2.02421152e-01-6.94689102e-01j],\n",
       "        [-1.98018241e-04+0.00000000e+00j,\n",
       "          1.85837296e-04+9.15084577e-05j,\n",
       "          1.95647660e-04-1.86279749e-05j, ...,\n",
       "          1.51417379e-02+6.45601991e-03j,\n",
       "          4.87786418e-01-5.34445934e-01j,\n",
       "         -1.89411843e-01+6.62611974e-01j]]])"
      ]
     },
     "execution_count": 23,
     "metadata": {},
     "output_type": "execute_result"
    }
   ],
   "source": [
    "import numpy as np\n",
    "\n",
    "\n",
    "soc.eigenvectors()"
   ]
  },
  {
   "cell_type": "code",
   "execution_count": 44,
   "metadata": {},
   "outputs": [
    {
     "name": "stderr",
     "output_type": "stream",
     "text": [
      "/tmp/ipykernel_203188/933101586.py:1: DeprecationWarning: Please use atoms.cell.reciprocal()\n",
      "  reclatt = calc.atoms.get_reciprocal_cell()\n"
     ]
    },
    {
     "data": {
      "text/plain": [
       "array([[ 1.00000000e+00, -7.77317221e-17,  0.00000000e+00],\n",
       "       [-1.26842981e-17,  1.00000000e+00,  0.00000000e+00],\n",
       "       [ 0.00000000e+00,  0.00000000e+00,  1.00000000e+00]])"
      ]
     },
     "execution_count": 44,
     "metadata": {},
     "output_type": "execute_result"
    }
   ],
   "source": [
    "reclatt = calc.atoms.get_reciprocal_cell()\n",
    "reallatt = calc.atoms.get_cell()\n",
    "G_Gv = calc.wfs.pd.get_reciprocal_vectors(q=4, add_q=False)\n",
    "G_Gv @ np.linalg.inv(reclatt)/3.32491847\n",
    "# psit_nG = np.array([calc.wfs.kpt_u[ik].psit_nG[n]\n",
    "                        # for n in bands])\n",
    "reclatt @ reallatt.T"
   ]
  },
  {
   "cell_type": "code",
   "execution_count": 29,
   "metadata": {},
   "outputs": [
    {
     "data": {
      "text/plain": [
       "(1445, 3)"
      ]
     },
     "execution_count": 29,
     "metadata": {},
     "output_type": "execute_result"
    }
   ],
   "source": [
    "G_Gv.shape"
   ]
  },
  {
   "cell_type": "code",
   "execution_count": null,
   "metadata": {},
   "outputs": [],
   "source": []
  },
  {
   "cell_type": "code",
   "execution_count": 56,
   "metadata": {},
   "outputs": [],
   "source": [
    "calc = GPAW(\"Te.gpw\")\n",
    "soc = spinorbit.soc_eigenstates(calc)"
   ]
  },
  {
   "cell_type": "code",
   "execution_count": 57,
   "metadata": {},
   "outputs": [
    {
     "name": "stdout",
     "output_type": "stream",
     "text": [
      "[9.19871221e-07 7.43474910e-03 5.67290960e-07 4.63626073e-06\n",
      " 5.60736786e-02 7.95451426e-06 8.13639306e-06 1.57868862e-05\n",
      " 1.21191965e-01 6.71112628e-02 1.13924614e-01 1.69608088e-06\n",
      " 1.68017767e-05 9.84064063e-03 2.65761125e-05 1.06405973e-04]\n"
     ]
    }
   ],
   "source": [
    "e_g = soc.eigenvalues()[3]\n",
    "split = e_g[1::2] - e_g[0::2]\n",
    "print(split)"
   ]
  },
  {
   "cell_type": "code",
   "execution_count": 65,
   "metadata": {},
   "outputs": [
    {
     "ename": "ValueError",
     "evalue": "Unknown structure: trigomal.",
     "output_type": "error",
     "traceback": [
      "\u001b[0;31m---------------------------------------------------------------------------\u001b[0m",
      "\u001b[0;31mValueError\u001b[0m                                Traceback (most recent call last)",
      "Cell \u001b[0;32mIn[65], line 2\u001b[0m\n\u001b[1;32m      1\u001b[0m \u001b[38;5;28;01mfrom\u001b[39;00m \u001b[38;5;21;01mase\u001b[39;00m\u001b[38;5;21;01m.\u001b[39;00m\u001b[38;5;21;01mbuild\u001b[39;00m \u001b[38;5;28;01mimport\u001b[39;00m bulk\n\u001b[0;32m----> 2\u001b[0m te \u001b[38;5;241m=\u001b[39m \u001b[43mbulk\u001b[49m\u001b[43m(\u001b[49m\u001b[38;5;124;43m'\u001b[39;49m\u001b[38;5;124;43mTe3\u001b[39;49m\u001b[38;5;124;43m'\u001b[39;49m\u001b[43m,\u001b[49m\u001b[38;5;124;43m'\u001b[39;49m\u001b[38;5;124;43mtrigomal\u001b[39;49m\u001b[38;5;124;43m'\u001b[39;49m\u001b[43m,\u001b[49m\u001b[43ma\u001b[49m\u001b[38;5;241;43m=\u001b[39;49m\u001b[38;5;241;43m1\u001b[39;49m\u001b[43m,\u001b[49m\u001b[43mc\u001b[49m\u001b[38;5;241;43m=\u001b[39;49m\u001b[38;5;241;43m1.2\u001b[39;49m\u001b[43m)\u001b[49m\n",
      "File \u001b[0;32m~/anaconda3/envs/venv/lib/python3.11/site-packages/ase/build/bulk.py:113\u001b[0m, in \u001b[0;36mbulk\u001b[0;34m(name, crystalstructure, a, b, c, alpha, covera, u, orthorhombic, cubic, basis)\u001b[0m\n\u001b[1;32m    110\u001b[0m     magmom_per_atom \u001b[38;5;241m=\u001b[39m ref\u001b[38;5;241m.\u001b[39mget(\u001b[38;5;124m'\u001b[39m\u001b[38;5;124mmagmom_per_atom\u001b[39m\u001b[38;5;124m'\u001b[39m)\n\u001b[1;32m    112\u001b[0m \u001b[38;5;28;01mif\u001b[39;00m crystalstructure \u001b[38;5;129;01mnot\u001b[39;00m \u001b[38;5;129;01min\u001b[39;00m structures:\n\u001b[0;32m--> 113\u001b[0m     \u001b[38;5;28;01mraise\u001b[39;00m \u001b[38;5;167;01mValueError\u001b[39;00m(\u001b[38;5;124mf\u001b[39m\u001b[38;5;124m'\u001b[39m\u001b[38;5;124mUnknown structure: \u001b[39m\u001b[38;5;132;01m{\u001b[39;00mcrystalstructure\u001b[38;5;132;01m}\u001b[39;00m\u001b[38;5;124m.\u001b[39m\u001b[38;5;124m'\u001b[39m)\n\u001b[1;32m    115\u001b[0m \u001b[38;5;66;03m# Check name:\u001b[39;00m\n\u001b[1;32m    116\u001b[0m natoms \u001b[38;5;241m=\u001b[39m \u001b[38;5;28mlen\u001b[39m(string2symbols(name))\n",
      "\u001b[0;31mValueError\u001b[0m: Unknown structure: trigomal."
     ]
    }
   ],
   "source": []
  },
  {
   "cell_type": "code",
   "execution_count": 62,
   "metadata": {},
   "outputs": [
    {
     "data": {
      "text/plain": [
       "Cell([[1.0, 0.0, 0.0], [-0.5, 0.8660254037844386, 0.0], [0.0, 0.0, 1.2]])"
      ]
     },
     "execution_count": 62,
     "metadata": {},
     "output_type": "execute_result"
    }
   ],
   "source": [
    "te.cell"
   ]
  },
  {
   "cell_type": "code",
   "execution_count": 88,
   "metadata": {},
   "outputs": [
    {
     "name": "stdout",
     "output_type": "stream",
     "text": [
      "(16, 51) (51, 32)\n"
     ]
    },
    {
     "ename": "ValueError",
     "evalue": "x and y must have same first dimension, but have shapes (51, 3) and (16,)",
     "output_type": "error",
     "traceback": [
      "\u001b[0;31m---------------------------------------------------------------------------\u001b[0m",
      "\u001b[0;31mValueError\u001b[0m                                Traceback (most recent call last)",
      "Cell \u001b[0;32mIn[88], line 12\u001b[0m\n\u001b[1;32m      9\u001b[0m \u001b[38;5;28mprint\u001b[39m (en\u001b[38;5;241m.\u001b[39mshape, en_soc\u001b[38;5;241m.\u001b[39mshape)\n\u001b[1;32m     11\u001b[0m \u001b[38;5;28;01mfor\u001b[39;00m e \u001b[38;5;129;01min\u001b[39;00m en\u001b[38;5;241m.\u001b[39mT:\n\u001b[0;32m---> 12\u001b[0m     \u001b[43mplt\u001b[49m\u001b[38;5;241;43m.\u001b[39;49m\u001b[43mplot\u001b[49m\u001b[43m(\u001b[49m\u001b[43mkpt\u001b[49m\u001b[43m,\u001b[49m\u001b[43m \u001b[49m\u001b[43me\u001b[49m\u001b[43m,\u001b[49m\u001b[43m \u001b[49m\u001b[43mc\u001b[49m\u001b[38;5;241;43m=\u001b[39;49m\u001b[38;5;124;43m'\u001b[39;49m\u001b[38;5;124;43mk\u001b[39;49m\u001b[38;5;124;43m'\u001b[39;49m\u001b[43m)\u001b[49m\n\u001b[1;32m     13\u001b[0m \u001b[38;5;28;01mfor\u001b[39;00m e \u001b[38;5;129;01min\u001b[39;00m en_soc\u001b[38;5;241m.\u001b[39mT:\n\u001b[1;32m     14\u001b[0m     plt\u001b[38;5;241m.\u001b[39mplot(kpt, e, c\u001b[38;5;241m=\u001b[39m\u001b[38;5;124m'\u001b[39m\u001b[38;5;124mr\u001b[39m\u001b[38;5;124m'\u001b[39m)\n",
      "File \u001b[0;32m~/anaconda3/envs/venv/lib/python3.11/site-packages/matplotlib/pyplot.py:3794\u001b[0m, in \u001b[0;36mplot\u001b[0;34m(scalex, scaley, data, *args, **kwargs)\u001b[0m\n\u001b[1;32m   3786\u001b[0m \u001b[38;5;129m@_copy_docstring_and_deprecators\u001b[39m(Axes\u001b[38;5;241m.\u001b[39mplot)\n\u001b[1;32m   3787\u001b[0m \u001b[38;5;28;01mdef\u001b[39;00m \u001b[38;5;21mplot\u001b[39m(\n\u001b[1;32m   3788\u001b[0m     \u001b[38;5;241m*\u001b[39margs: \u001b[38;5;28mfloat\u001b[39m \u001b[38;5;241m|\u001b[39m ArrayLike \u001b[38;5;241m|\u001b[39m \u001b[38;5;28mstr\u001b[39m,\n\u001b[0;32m   (...)\u001b[0m\n\u001b[1;32m   3792\u001b[0m     \u001b[38;5;241m*\u001b[39m\u001b[38;5;241m*\u001b[39mkwargs,\n\u001b[1;32m   3793\u001b[0m ) \u001b[38;5;241m-\u001b[39m\u001b[38;5;241m>\u001b[39m \u001b[38;5;28mlist\u001b[39m[Line2D]:\n\u001b[0;32m-> 3794\u001b[0m     \u001b[38;5;28;01mreturn\u001b[39;00m \u001b[43mgca\u001b[49m\u001b[43m(\u001b[49m\u001b[43m)\u001b[49m\u001b[38;5;241;43m.\u001b[39;49m\u001b[43mplot\u001b[49m\u001b[43m(\u001b[49m\n\u001b[1;32m   3795\u001b[0m \u001b[43m        \u001b[49m\u001b[38;5;241;43m*\u001b[39;49m\u001b[43margs\u001b[49m\u001b[43m,\u001b[49m\n\u001b[1;32m   3796\u001b[0m \u001b[43m        \u001b[49m\u001b[43mscalex\u001b[49m\u001b[38;5;241;43m=\u001b[39;49m\u001b[43mscalex\u001b[49m\u001b[43m,\u001b[49m\n\u001b[1;32m   3797\u001b[0m \u001b[43m        \u001b[49m\u001b[43mscaley\u001b[49m\u001b[38;5;241;43m=\u001b[39;49m\u001b[43mscaley\u001b[49m\u001b[43m,\u001b[49m\n\u001b[1;32m   3798\u001b[0m \u001b[43m        \u001b[49m\u001b[38;5;241;43m*\u001b[39;49m\u001b[38;5;241;43m*\u001b[39;49m\u001b[43m(\u001b[49m\u001b[43m{\u001b[49m\u001b[38;5;124;43m\"\u001b[39;49m\u001b[38;5;124;43mdata\u001b[39;49m\u001b[38;5;124;43m\"\u001b[39;49m\u001b[43m:\u001b[49m\u001b[43m \u001b[49m\u001b[43mdata\u001b[49m\u001b[43m}\u001b[49m\u001b[43m \u001b[49m\u001b[38;5;28;43;01mif\u001b[39;49;00m\u001b[43m \u001b[49m\u001b[43mdata\u001b[49m\u001b[43m \u001b[49m\u001b[38;5;129;43;01mis\u001b[39;49;00m\u001b[43m \u001b[49m\u001b[38;5;129;43;01mnot\u001b[39;49;00m\u001b[43m \u001b[49m\u001b[38;5;28;43;01mNone\u001b[39;49;00m\u001b[43m \u001b[49m\u001b[38;5;28;43;01melse\u001b[39;49;00m\u001b[43m \u001b[49m\u001b[43m{\u001b[49m\u001b[43m}\u001b[49m\u001b[43m)\u001b[49m\u001b[43m,\u001b[49m\n\u001b[1;32m   3799\u001b[0m \u001b[43m        \u001b[49m\u001b[38;5;241;43m*\u001b[39;49m\u001b[38;5;241;43m*\u001b[39;49m\u001b[43mkwargs\u001b[49m\u001b[43m,\u001b[49m\n\u001b[1;32m   3800\u001b[0m \u001b[43m    \u001b[49m\u001b[43m)\u001b[49m\n",
      "File \u001b[0;32m~/anaconda3/envs/venv/lib/python3.11/site-packages/matplotlib/axes/_axes.py:1779\u001b[0m, in \u001b[0;36mAxes.plot\u001b[0;34m(self, scalex, scaley, data, *args, **kwargs)\u001b[0m\n\u001b[1;32m   1536\u001b[0m \u001b[38;5;250m\u001b[39m\u001b[38;5;124;03m\"\"\"\u001b[39;00m\n\u001b[1;32m   1537\u001b[0m \u001b[38;5;124;03mPlot y versus x as lines and/or markers.\u001b[39;00m\n\u001b[1;32m   1538\u001b[0m \n\u001b[0;32m   (...)\u001b[0m\n\u001b[1;32m   1776\u001b[0m \u001b[38;5;124;03m(``'green'``) or hex strings (``'#008000'``).\u001b[39;00m\n\u001b[1;32m   1777\u001b[0m \u001b[38;5;124;03m\"\"\"\u001b[39;00m\n\u001b[1;32m   1778\u001b[0m kwargs \u001b[38;5;241m=\u001b[39m cbook\u001b[38;5;241m.\u001b[39mnormalize_kwargs(kwargs, mlines\u001b[38;5;241m.\u001b[39mLine2D)\n\u001b[0;32m-> 1779\u001b[0m lines \u001b[38;5;241m=\u001b[39m [\u001b[38;5;241m*\u001b[39m\u001b[38;5;28mself\u001b[39m\u001b[38;5;241m.\u001b[39m_get_lines(\u001b[38;5;28mself\u001b[39m, \u001b[38;5;241m*\u001b[39margs, data\u001b[38;5;241m=\u001b[39mdata, \u001b[38;5;241m*\u001b[39m\u001b[38;5;241m*\u001b[39mkwargs)]\n\u001b[1;32m   1780\u001b[0m \u001b[38;5;28;01mfor\u001b[39;00m line \u001b[38;5;129;01min\u001b[39;00m lines:\n\u001b[1;32m   1781\u001b[0m     \u001b[38;5;28mself\u001b[39m\u001b[38;5;241m.\u001b[39madd_line(line)\n",
      "File \u001b[0;32m~/anaconda3/envs/venv/lib/python3.11/site-packages/matplotlib/axes/_base.py:296\u001b[0m, in \u001b[0;36m_process_plot_var_args.__call__\u001b[0;34m(self, axes, data, *args, **kwargs)\u001b[0m\n\u001b[1;32m    294\u001b[0m     this \u001b[38;5;241m+\u001b[39m\u001b[38;5;241m=\u001b[39m args[\u001b[38;5;241m0\u001b[39m],\n\u001b[1;32m    295\u001b[0m     args \u001b[38;5;241m=\u001b[39m args[\u001b[38;5;241m1\u001b[39m:]\n\u001b[0;32m--> 296\u001b[0m \u001b[38;5;28;01myield from\u001b[39;00m \u001b[38;5;28;43mself\u001b[39;49m\u001b[38;5;241;43m.\u001b[39;49m\u001b[43m_plot_args\u001b[49m\u001b[43m(\u001b[49m\n\u001b[1;32m    297\u001b[0m \u001b[43m    \u001b[49m\u001b[43maxes\u001b[49m\u001b[43m,\u001b[49m\u001b[43m \u001b[49m\u001b[43mthis\u001b[49m\u001b[43m,\u001b[49m\u001b[43m \u001b[49m\u001b[43mkwargs\u001b[49m\u001b[43m,\u001b[49m\u001b[43m \u001b[49m\u001b[43mambiguous_fmt_datakey\u001b[49m\u001b[38;5;241;43m=\u001b[39;49m\u001b[43mambiguous_fmt_datakey\u001b[49m\u001b[43m)\u001b[49m\n",
      "File \u001b[0;32m~/anaconda3/envs/venv/lib/python3.11/site-packages/matplotlib/axes/_base.py:486\u001b[0m, in \u001b[0;36m_process_plot_var_args._plot_args\u001b[0;34m(self, axes, tup, kwargs, return_kwargs, ambiguous_fmt_datakey)\u001b[0m\n\u001b[1;32m    483\u001b[0m     axes\u001b[38;5;241m.\u001b[39myaxis\u001b[38;5;241m.\u001b[39mupdate_units(y)\n\u001b[1;32m    485\u001b[0m \u001b[38;5;28;01mif\u001b[39;00m x\u001b[38;5;241m.\u001b[39mshape[\u001b[38;5;241m0\u001b[39m] \u001b[38;5;241m!=\u001b[39m y\u001b[38;5;241m.\u001b[39mshape[\u001b[38;5;241m0\u001b[39m]:\n\u001b[0;32m--> 486\u001b[0m     \u001b[38;5;28;01mraise\u001b[39;00m \u001b[38;5;167;01mValueError\u001b[39;00m(\u001b[38;5;124mf\u001b[39m\u001b[38;5;124m\"\u001b[39m\u001b[38;5;124mx and y must have same first dimension, but \u001b[39m\u001b[38;5;124m\"\u001b[39m\n\u001b[1;32m    487\u001b[0m                      \u001b[38;5;124mf\u001b[39m\u001b[38;5;124m\"\u001b[39m\u001b[38;5;124mhave shapes \u001b[39m\u001b[38;5;132;01m{\u001b[39;00mx\u001b[38;5;241m.\u001b[39mshape\u001b[38;5;132;01m}\u001b[39;00m\u001b[38;5;124m and \u001b[39m\u001b[38;5;132;01m{\u001b[39;00my\u001b[38;5;241m.\u001b[39mshape\u001b[38;5;132;01m}\u001b[39;00m\u001b[38;5;124m\"\u001b[39m)\n\u001b[1;32m    488\u001b[0m \u001b[38;5;28;01mif\u001b[39;00m x\u001b[38;5;241m.\u001b[39mndim \u001b[38;5;241m>\u001b[39m \u001b[38;5;241m2\u001b[39m \u001b[38;5;129;01mor\u001b[39;00m y\u001b[38;5;241m.\u001b[39mndim \u001b[38;5;241m>\u001b[39m \u001b[38;5;241m2\u001b[39m:\n\u001b[1;32m    489\u001b[0m     \u001b[38;5;28;01mraise\u001b[39;00m \u001b[38;5;167;01mValueError\u001b[39;00m(\u001b[38;5;124mf\u001b[39m\u001b[38;5;124m\"\u001b[39m\u001b[38;5;124mx and y can be no greater than 2D, but have \u001b[39m\u001b[38;5;124m\"\u001b[39m\n\u001b[1;32m    490\u001b[0m                      \u001b[38;5;124mf\u001b[39m\u001b[38;5;124m\"\u001b[39m\u001b[38;5;124mshapes \u001b[39m\u001b[38;5;132;01m{\u001b[39;00mx\u001b[38;5;241m.\u001b[39mshape\u001b[38;5;132;01m}\u001b[39;00m\u001b[38;5;124m and \u001b[39m\u001b[38;5;132;01m{\u001b[39;00my\u001b[38;5;241m.\u001b[39mshape\u001b[38;5;132;01m}\u001b[39;00m\u001b[38;5;124m\"\u001b[39m)\n",
      "\u001b[0;31mValueError\u001b[0m: x and y must have same first dimension, but have shapes (51, 3) and (16,)"
     ]
    },
    {
     "data": {
      "image/png": "[encoded data removed]",
      "text/plain": [
       "<Figure size 640x480 with 1 Axes>"
      ]
     },
     "metadata": {},
     "output_type": "display_data"
    }
   ],
   "source": [
    "from matplotlib import pyplot as plt\n",
    "\n",
    "\n",
    "calc = GPAW(\"Te_bands.gpw\")\n",
    "soc = soc_eigenstates(calc)\n",
    "kpt = calc.get_ibz_k_points()\n",
    "en=np.array([calc.get_eigenvalues(ik) for ik in range(len(kpt))])\n",
    "en_soc = soc.eigenvalues()\n",
    "print (en.shape, en_soc.shape)\n",
    "\n",
    "for e in en.T:\n",
    "    plt.plot(kpt, e, c='k')\n",
    "for e in en_soc.T:\n",
    "    plt.plot(kpt, e, c='r')\n",
    "\n",
    "plt.show()\n",
    "\n",
    "# for i in range(51):\n",
    "#     e = soc.eigenvalues()[i]\n",
    "#     # print(e)\n",
    "#     diff = e[1::2] - e[0::2]\n",
    "#     print(i,diff[:-2].max())\n"
   ]
  },
  {
   "cell_type": "code",
   "execution_count": null,
   "metadata": {},
   "outputs": [],
   "source": []
  }
 ],
 "metadata": {
  "kernelspec": {
   "display_name": "venv",
   "language": "python",
   "name": "python3"
  },
  "language_info": {
   "codemirror_mode": {
    "name": "ipython",
    "version": 3
   },
   "file_extension": ".py",
   "mimetype": "text/x-python",
   "name": "python",
   "nbconvert_exporter": "python",
   "pygments_lexer": "ipython3",
   "version": "3.11.9"
  }
 },
 "nbformat": 4,
 "nbformat_minor": 2
}
